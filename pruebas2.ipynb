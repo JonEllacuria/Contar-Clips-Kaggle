{
 "cells": [
  {
   "cell_type": "code",
   "execution_count": 1,
   "metadata": {},
   "outputs": [],
   "source": [
    "import cv2 as cv\n",
    "import numpy as np\n",
    "import matplotlib.pyplot as plt"
   ]
  },
  {
   "cell_type": "code",
   "execution_count": 13,
   "metadata": {},
   "outputs": [],
   "source": [
    "import cv2 as cv\n",
    "import numpy as np\n",
    "\n",
    "# Cargar la imagen\n",
    "img = cv.imread('train/train/clips-30056.png')\n",
    "\n",
    "\n",
    "# Convertir la imagen al espacio de color HSV\n",
    "hsv_img = cv.cvtColor(img, cv.COLOR_BGR2HSV)\n",
    "\n",
    "# Calcular el histograma de colores en el espacio de color HSV\n",
    "histogram = cv.calcHist([hsv_img], [0, 1], None, [180, 256], [0, 180, 0, 256])\n",
    "\n",
    "# Encontrar el índice del color más frecuente en el histograma\n",
    "most_common_color_index = np.unravel_index(np.argmax(histogram), histogram.shape)\n",
    "\n",
    "# Definir los rangos para seleccionar los píxeles con tono similar al rojo\n",
    "lower_red = np.array([0, 25, 25])\n",
    "upper_red = np.array([255, 255, 255])\n",
    "\n",
    "# Crear una máscara para los píxeles con tono similar al rojo\n",
    "mask = cv.inRange(hsv_img, lower_red, upper_red)\n",
    "\n",
    "# Encontrar los píxeles que cumplen la condición en la máscara\n",
    "red_pixels = np.where(mask == 255)\n",
    "\n",
    "# Obtener el valor HSV del color más frecuente\n",
    "most_common_color_hsv = (most_common_color_index[0], most_common_color_index[1], 255)\n",
    "\n",
    "# Convertir el color más frecuente de HSV a BGR\n",
    "most_common_color_bgr = cv.cvtColor(np.uint8([[most_common_color_hsv]]), cv.COLOR_HSV2BGR)[0][0]\n",
    "\n",
    "# Asignar el color más frecuente a los píxeles seleccionados\n",
    "img[red_pixels] = most_common_color_bgr\n",
    "\n",
    "# Mostrar la imagen resultante\n",
    "cv.imshow('Modified Image', img)\n",
    "cv.waitKey(0)\n",
    "cv.destroyAllWindows()"
   ]
  },
  {
   "cell_type": "code",
   "execution_count": 28,
   "metadata": {},
   "outputs": [],
   "source": [
    "'''# Convertir la imagen al espacio de color HSV\n",
    "hsv_img = cv.cvtColor(img, cv.COLOR_BGR2HSV)\n",
    "\n",
    "# Calcular el histograma de colores en el espacio de color HSV\n",
    "histogram = cv.calcHist([hsv_img], [0, 1], None, [180, 256], [0, 180, 0, 256])\n",
    "\n",
    "# Encontrar el índice del color más frecuente en el histograma\n",
    "most_common_color_index = np.unravel_index(np.argmax(histogram), histogram.shape)\n",
    "\n",
    "# Definir los rangos para seleccionar los píxeles con tono similar al azul\n",
    "lower_blue = np.array([80, 100, 100])\n",
    "upper_blue = np.array([140, 255, 255])\n",
    "\n",
    "# Crear una máscara para los píxeles con tono similar al azul\n",
    "mask = cv.inRange(hsv_img, lower_blue, upper_blue)\n",
    "\n",
    "# Encontrar los píxeles que cumplen la condición en la máscara\n",
    "blue_pixels = np.where(mask == 255)\n",
    "\n",
    "# Obtener el valor HSV del color más frecuente\n",
    "most_common_color_hsv = (most_common_color_index[0], most_common_color_index[1], 255)\n",
    "\n",
    "# Convertir el color más frecuente de HSV a BGR\n",
    "most_common_color_bgr = cv.cvtColor(np.uint8([[most_common_color_hsv]]), cv.COLOR_HSV2BGR)[0][0]\n",
    "\n",
    "# Asignar el color más frecuente a los píxeles seleccionados\n",
    "img[blue_pixels] = most_common_color_bgr\n",
    "\n",
    "# Mostrar la imagen resultante\n",
    "cv.imshow('Modified Image', img)\n",
    "cv.waitKey(0)\n",
    "cv.destroyAllWindows()'''"
   ]
  },
  {
   "cell_type": "code",
   "execution_count": 14,
   "metadata": {},
   "outputs": [
    {
     "data": {
      "text/plain": [
       "-1"
      ]
     },
     "execution_count": 14,
     "metadata": {},
     "output_type": "execute_result"
    }
   ],
   "source": [
    "gray = cv.cvtColor(img, cv.COLOR_BGR2GRAY)\n",
    "cv.imshow('Gray', gray)\n",
    "\n",
    "cv.waitKey(0)"
   ]
  },
  {
   "cell_type": "code",
   "execution_count": 15,
   "metadata": {},
   "outputs": [
    {
     "data": {
      "text/plain": [
       "-1"
      ]
     },
     "execution_count": 15,
     "metadata": {},
     "output_type": "execute_result"
    }
   ],
   "source": [
    "canny = cv.Canny(gray, 120, 130)\n",
    "cv.imshow('Canny Edges', canny)\n",
    "\n",
    "cv.waitKey(0)"
   ]
  },
  {
   "cell_type": "code",
   "execution_count": 16,
   "metadata": {},
   "outputs": [
    {
     "name": "stdout",
     "output_type": "stream",
     "text": [
      "Número de contornos de clips encontrados: 15\n"
     ]
    }
   ],
   "source": [
    "# Aplicar un umbral adaptativo a la imagen en escala de grises\n",
    "_, thresh = cv.threshold(canny, 0, 255, cv.THRESH_BINARY + cv.THRESH_OTSU)\n",
    "\n",
    "# Encontrar los contornos en la imagen binarizada\n",
    "contours, _ = cv.findContours(thresh, cv.RETR_EXTERNAL, cv.CHAIN_APPROX_SIMPLE)\n",
    "\n",
    "# Contar el número de contornos encontrados\n",
    "num_contours = len(contours)\n",
    "\n",
    "# Mostrar el número de contornos encontrados\n",
    "print(f\"Número de contornos de clips encontrados: {num_contours}\")\n",
    "\n",
    "# Dibujar los contornos en la imagen original\n",
    "cv.drawContours(canny, contours, -1, (0, 255, 0), 2)\n",
    "\n",
    "# Mostrar la imagen con los contornos dibujados\n",
    "cv.imshow('Contours', img)\n",
    "cv.waitKey(0)\n",
    "cv.destroyAllWindows()"
   ]
  },
  {
   "attachments": {},
   "cell_type": "markdown",
   "metadata": {},
   "source": [
    "Intento reducir los espacios y dar más continuidada a los objetos"
   ]
  },
  {
   "cell_type": "code",
   "execution_count": 43,
   "metadata": {},
   "outputs": [
    {
     "name": "stdout",
     "output_type": "stream",
     "text": [
      "Número de contornos de clips encontrados: 127\n"
     ]
    }
   ],
   "source": [
    "import cv2 as cv\n",
    "import numpy as np\n",
    "\n",
    "# Cargar la imagen\n",
    "img = cv.imread('train/train/clips-30037.png')\n",
    "\n",
    "# Convertir la imagen al espacio de color HSV\n",
    "hsv_img = cv.cvtColor(img, cv.COLOR_BGR2HSV)\n",
    "\n",
    "# Calcular el histograma de colores en el espacio de color HSV\n",
    "histogram = cv.calcHist([hsv_img], [0, 1], None, [180, 256], [0, 180, 0, 256])\n",
    "\n",
    "# Encontrar el índice del color más frecuente en el histograma\n",
    "most_common_color_index = np.unravel_index(np.argmax(histogram), histogram.shape)\n",
    "\n",
    "# Definir los rangos para seleccionar los píxeles con tono similar al rojo\n",
    "lower_red = np.array([0, 25, 25])\n",
    "upper_red = np.array([255, 255, 255])\n",
    "\n",
    "# Crear una máscara para los píxeles con tono similar al rojo\n",
    "mask = cv.inRange(hsv_img, lower_red, upper_red)\n",
    "\n",
    "# Encontrar los píxeles que cumplen la condición en la máscara\n",
    "red_pixels = np.where(mask == 255)\n",
    "\n",
    "# Obtener el valor HSV del color más frecuente\n",
    "most_common_color_hsv = (most_common_color_index[0], most_common_color_index[1], 255)\n",
    "\n",
    "# Convertir el color más frecuente de HSV a BGR\n",
    "most_common_color_bgr = cv.cvtColor(np.uint8([[most_common_color_hsv]]), cv.COLOR_HSV2BGR)[0][0]\n",
    "\n",
    "# Asignar el color más frecuente a los píxeles seleccionados\n",
    "img[red_pixels] = most_common_color_bgr\n",
    "\n",
    "gray = cv.cvtColor(img, cv.COLOR_BGR2GRAY)\n",
    "\n",
    "# Suavizar la imagen binarizada mediante suavizado Gaussiano\n",
    "blurred = cv.GaussianBlur(gray, (5, 5), 0)\n",
    "\n",
    "# Aplicar un umbral adaptativo a la imagen suavizada\n",
    "_, thresh = cv.threshold(blurred, 0, 255, cv.THRESH_BINARY + cv.THRESH_OTSU)\n",
    "\n",
    "# Encontrar los contornos en la imagen binarizada\n",
    "contours, _ = cv.findContours(thresh, cv.RETR_EXTERNAL, cv.CHAIN_APPROX_SIMPLE)\n",
    "\n",
    "# Contar el número de contornos encontrados\n",
    "num_contours = len(contours)\n",
    "\n",
    "# Mostrar el número de contornos encontrados\n",
    "print(f\"Número de contornos de clips encontrados: {num_contours}\")\n",
    "\n",
    "# Dibujar los contornos en la imagen original\n",
    "cv.drawContours(img, contours, -1, (0, 255, 0), 2)\n",
    "\n",
    "# Mostrar la imagen con los contornos dibujados\n",
    "cv.imshow('Contours', img)\n",
    "cv.waitKey(0)\n",
    "cv.destroyAllWindows()\n",
    "\n"
   ]
  },
  {
   "cell_type": "code",
   "execution_count": 44,
   "metadata": {},
   "outputs": [
    {
     "name": "stdout",
     "output_type": "stream",
     "text": [
      "Número de contornos de clips encontrados: 138\n"
     ]
    }
   ],
   "source": [
    "#Modifico la línea de contours\n",
    "\n",
    "import cv2 as cv\n",
    "import numpy as np\n",
    "\n",
    "# Cargar la imagen\n",
    "img = cv.imread('train/train/clips-30037.png')\n",
    "\n",
    "# Convertir la imagen al espacio de color HSV\n",
    "hsv_img = cv.cvtColor(img, cv.COLOR_BGR2HSV)\n",
    "\n",
    "# Calcular el histograma de colores en el espacio de color HSV\n",
    "histogram = cv.calcHist([hsv_img], [0, 1], None, [180, 256], [0, 180, 0, 256])\n",
    "\n",
    "# Encontrar el índice del color más frecuente en el histograma\n",
    "most_common_color_index = np.unravel_index(np.argmax(histogram), histogram.shape)\n",
    "\n",
    "# Definir los rangos para seleccionar los píxeles con tono similar al rojo\n",
    "lower_red = np.array([0, 25, 25])\n",
    "upper_red = np.array([255, 255, 255])\n",
    "\n",
    "# Crear una máscara para los píxeles con tono similar al rojo\n",
    "mask = cv.inRange(hsv_img, lower_red, upper_red)\n",
    "\n",
    "# Encontrar los píxeles que cumplen la condición en la máscara\n",
    "red_pixels = np.where(mask == 255)\n",
    "\n",
    "# Obtener el valor HSV del color más frecuente\n",
    "most_common_color_hsv = (most_common_color_index[0], most_common_color_index[1], 255)\n",
    "\n",
    "# Convertir el color más frecuente de HSV a BGR\n",
    "most_common_color_bgr = cv.cvtColor(np.uint8([[most_common_color_hsv]]), cv.COLOR_HSV2BGR)[0][0]\n",
    "\n",
    "# Asignar el color más frecuente a los píxeles seleccionados\n",
    "img[red_pixels] = most_common_color_bgr\n",
    "\n",
    "gray = cv.cvtColor(img, cv.COLOR_BGR2GRAY)\n",
    "\n",
    "# Suavizar la imagen binarizada mediante suavizado Gaussiano\n",
    "blurred = cv.GaussianBlur(gray, (5, 5), 0)\n",
    "\n",
    "# Aplicar un umbral adaptativo a la imagen suavizada\n",
    "_, thresh = cv.threshold(blurred, 0, 255, cv.THRESH_BINARY + cv.THRESH_OTSU)\n",
    "\n",
    "# Encontrar los contornos en la imagen binarizada\n",
    "contours, _ = cv.findContours(thresh, cv.RETR_LIST, cv.CHAIN_APPROX_NONE)\n",
    "\n",
    "# Contar el número de contornos encontrados\n",
    "num_contours = len(contours)\n",
    "\n",
    "# Mostrar el número de contornos encontrados\n",
    "print(f\"Número de contornos de clips encontrados: {num_contours}\")\n",
    "\n",
    "# Dibujar los contornos en la imagen original\n",
    "cv.drawContours(img, contours, -1, (0, 255, 0), 2)\n",
    "\n",
    "# Mostrar la imagen con los contornos dibujados\n",
    "cv.imshow('Contours', img)\n",
    "cv.waitKey(0)\n",
    "cv.destroyAllWindows()"
   ]
  },
  {
   "cell_type": "code",
   "execution_count": 48,
   "metadata": {},
   "outputs": [
    {
     "data": {
      "text/plain": [
       "(256, 256, 3)"
      ]
     },
     "execution_count": 48,
     "metadata": {},
     "output_type": "execute_result"
    }
   ],
   "source": [
    "img = cv.imread('train/train/clips-30030.png')\n",
    "img.shape"
   ]
  },
  {
   "cell_type": "code",
   "execution_count": 46,
   "metadata": {},
   "outputs": [
    {
     "data": {
      "text/plain": [
       "(256, 256, 3)"
      ]
     },
     "execution_count": 46,
     "metadata": {},
     "output_type": "execute_result"
    }
   ],
   "source": []
  }
 ],
 "metadata": {
  "kernelspec": {
   "display_name": "Python 3",
   "language": "python",
   "name": "python3"
  },
  "language_info": {
   "codemirror_mode": {
    "name": "ipython",
    "version": 3
   },
   "file_extension": ".py",
   "mimetype": "text/x-python",
   "name": "python",
   "nbconvert_exporter": "python",
   "pygments_lexer": "ipython3",
   "version": "3.7.4"
  },
  "orig_nbformat": 4
 },
 "nbformat": 4,
 "nbformat_minor": 2
}
