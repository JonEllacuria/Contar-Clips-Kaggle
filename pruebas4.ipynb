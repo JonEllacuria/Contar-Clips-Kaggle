{
 "cells": [
  {
   "cell_type": "code",
   "execution_count": 3,
   "metadata": {},
   "outputs": [
    {
     "ename": "error",
     "evalue": "OpenCV(4.7.0) D:\\a\\opencv-python\\opencv-python\\opencv\\modules\\core\\src\\arithm.cpp:230: error: (-215:Assertion failed) (mtype == CV_8U || mtype == CV_8S) && _mask.sameSize(*psrc1) in function 'cv::binary_op'\n",
     "output_type": "error",
     "traceback": [
      "\u001b[1;31m---------------------------------------------------------------------------\u001b[0m",
      "\u001b[1;31merror\u001b[0m                                     Traceback (most recent call last)",
      "\u001b[1;32m~\\AppData\\Local\\Temp\\ipykernel_30252\\1340818246.py\u001b[0m in \u001b[0;36m<module>\u001b[1;34m\u001b[0m\n\u001b[0;32m     26\u001b[0m \u001b[1;33m\u001b[0m\u001b[0m\n\u001b[0;32m     27\u001b[0m \u001b[1;31m# Aplicar la imagen con las líneas verticales como máscara a la imagen binaria\u001b[0m\u001b[1;33m\u001b[0m\u001b[1;33m\u001b[0m\u001b[1;33m\u001b[0m\u001b[0m\n\u001b[1;32m---> 28\u001b[1;33m \u001b[0mmasked_thresh\u001b[0m \u001b[1;33m=\u001b[0m \u001b[0mcv\u001b[0m\u001b[1;33m.\u001b[0m\u001b[0mbitwise_and\u001b[0m\u001b[1;33m(\u001b[0m\u001b[0mthresh_resized\u001b[0m\u001b[1;33m,\u001b[0m \u001b[0mthresh_resized\u001b[0m\u001b[1;33m,\u001b[0m \u001b[0mmask\u001b[0m\u001b[1;33m=\u001b[0m\u001b[0mline_image\u001b[0m\u001b[1;33m)\u001b[0m\u001b[1;33m\u001b[0m\u001b[1;33m\u001b[0m\u001b[0m\n\u001b[0m\u001b[0;32m     29\u001b[0m \u001b[1;33m\u001b[0m\u001b[0m\n\u001b[0;32m     30\u001b[0m \u001b[1;31m# Encontrar los contornos de los objetos restantes en la imagen\u001b[0m\u001b[1;33m\u001b[0m\u001b[1;33m\u001b[0m\u001b[1;33m\u001b[0m\u001b[0m\n",
      "\u001b[1;31merror\u001b[0m: OpenCV(4.7.0) D:\\a\\opencv-python\\opencv-python\\opencv\\modules\\core\\src\\arithm.cpp:230: error: (-215:Assertion failed) (mtype == CV_8U || mtype == CV_8S) && _mask.sameSize(*psrc1) in function 'cv::binary_op'\n"
     ]
    }
   ],
   "source": [
    "import cv2 as cv\n",
    "import numpy as np\n",
    "\n",
    "img = cv.imread('train/train/clips-30049.png')\n",
    "\n",
    "\n",
    "# Convertir la imagen a escala de grises\n",
    "gray = cv.cvtColor(img, cv.COLOR_BGR2GRAY)\n",
    "\n",
    "# Aplicar un umbral adaptativo a la imagen en escala de grises\n",
    "_, thresh = cv.threshold(gray, 0, 255, cv.THRESH_BINARY_INV + cv.THRESH_OTSU)\n",
    "\n",
    "# Aplicar la transformada de Hough para detectar las líneas verticales\n",
    "lines = cv.HoughLinesP(thresh, 1, np.pi / 180, threshold=100, minLineLength=100, maxLineGap=10)\n",
    "\n",
    "# Crear una imagen en blanco para dibujar las líneas verticales detectadas\n",
    "line_image = np.zeros_like(img)\n",
    "\n",
    "for line in lines:\n",
    "    x1, y1, x2, y2 = line[0]\n",
    "    if abs(x2 - x1) > abs(y2 - y1):\n",
    "        cv.line(line_image, (x1, y1), (x2, y2), (255, 255, 255), 2)\n",
    "\n",
    "# Convertir la imagen binaria a la misma forma que line_image\n",
    "thresh_resized = cv.resize(thresh, (line_image.shape[1], line_image.shape[0]))\n",
    "\n",
    "# Aplicar la imagen con las líneas verticales como máscara a la imagen binaria\n",
    "masked_thresh = cv.bitwise_and(thresh_resized, thresh_resized, mask=line_image)\n",
    "\n",
    "# Encontrar los contornos de los objetos restantes en la imagen\n",
    "contours, _ = cv.findContours(masked_thresh, cv.RETR_EXTERNAL, cv.CHAIN_APPROX_SIMPLE)\n",
    "\n",
    "# Dibujar los contornos encontrados en una nueva imagen en blanco\n",
    "result = np.zeros_like(img)\n",
    "cv.drawContours(result, contours, -1, (0, 255, 0), 2)\n",
    "\n",
    "# Mostrar la imagen original, la imagen binaria con la línea vertical eliminada y los contornos encontrados\n",
    "cv.imshow('Original', img)\n",
    "cv.imshow('Thresholded Image', masked_thresh)\n",
    "cv.imshow('Contours', result)\n",
    "\n",
    "# Esperar a que se presione cualquier tecla y luego cerrar las ventanas\n",
    "cv.waitKey(0)\n",
    "cv.destroyAllWindows()\n"
   ]
  }
 ],
 "metadata": {
  "kernelspec": {
   "display_name": "Python 3",
   "language": "python",
   "name": "python3"
  },
  "language_info": {
   "codemirror_mode": {
    "name": "ipython",
    "version": 3
   },
   "file_extension": ".py",
   "mimetype": "text/x-python",
   "name": "python",
   "nbconvert_exporter": "python",
   "pygments_lexer": "ipython3",
   "version": "3.7.4"
  },
  "orig_nbformat": 4
 },
 "nbformat": 4,
 "nbformat_minor": 2
}
