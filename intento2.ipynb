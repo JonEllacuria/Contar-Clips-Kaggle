{
 "cells": [
  {
   "cell_type": "code",
   "execution_count": 2,
   "metadata": {},
   "outputs": [
    {
     "name": "stdout",
     "output_type": "stream",
     "text": [
      "MSE (Cross-validation): 24.3477322033734\n",
      "R2 score (Cross-validation): -24.3477322033734\n",
      "RMSE (Cross-validation): 4.934342124678162\n"
     ]
    }
   ],
   "source": [
    "#Quiero hacer cross validation para certificar que el RMSE está bien\n",
    "\n",
    "import cv2 as cv\n",
    "import numpy as np\n",
    "import os\n",
    "import pandas as pd\n",
    "from sklearn.model_selection import train_test_split\n",
    "from sklearn.ensemble import RandomForestRegressor\n",
    "from sklearn.metrics import mean_squared_error, r2_score\n",
    "from sklearn.model_selection import cross_val_score\n",
    "\n",
    "# Leer el archivo CSV con las respuestas correctas\n",
    "csv_file = \"train/train.csv\"\n",
    "df = pd.read_csv(csv_file)\n",
    "\n",
    "# Crear listas para almacenar las características y las etiquetas\n",
    "features = []\n",
    "labels = []\n",
    "\n",
    "# Procesar cada imagen y extraer las características\n",
    "images_folder = 'train/train'\n",
    "for filename in os.listdir(images_folder):\n",
    "    if filename.endswith('.png'):\n",
    "        # Leer la imagen\n",
    "        img_path = os.path.join(images_folder, filename)\n",
    "        img = cv.imread(img_path)\n",
    "\n",
    "        # Extraer las características de la imagen (por ejemplo, el número de contornos)\n",
    "        gray = cv.cvtColor(img, cv.COLOR_BGR2GRAY)\n",
    "        canny = cv.Canny(gray, 100, 200)\n",
    "        _, thresh = cv.threshold(canny, 0, 255, cv.THRESH_BINARY + cv.THRESH_OTSU)\n",
    "        contours, _ = cv.findContours(thresh, cv.RETR_EXTERNAL, cv.CHAIN_APPROX_SIMPLE)\n",
    "        num_contours = len(contours)\n",
    "\n",
    "        # Obtener el número real de clips del archivo CSV correspondiente\n",
    "        image_id = int(filename.split('-')[1].split('.')[0])\n",
    "        real_clips = df.loc[df['id'] == image_id, 'clip_count'].values[0]\n",
    "\n",
    "        # Agregar las características y la etiqueta a las listas\n",
    "        features.append(num_contours)\n",
    "        labels.append(real_clips)\n",
    "\n",
    "# Convertir las listas en arrays numpy\n",
    "features = np.array(features)\n",
    "labels = np.array(labels)\n",
    "\n",
    "# Dividir los datos en conjuntos de entrenamiento y prueba una sola vez\n",
    "X_train, X_test, y_train, y_test = train_test_split(features, labels, test_size=0.2, random_state=42)\n",
    "\n",
    "# Entrenar un modelo (ejemplo utilizando Random Forest)\n",
    "model = RandomForestRegressor()\n",
    "\n",
    "# Realizar validación cruzada con 5 pliegues\n",
    "scores = cross_val_score(model, X_train.reshape(-1, 1), y_train, cv=5, scoring='neg_mean_squared_error')\n",
    "\n",
    "# Calcular métricas de evaluación promediando los resultados de los pliegues\n",
    "mse_cv = -scores.mean()\n",
    "r2_cv = scores.mean()\n",
    "print(f\"MSE (Cross-validation): {mse_cv}\")\n",
    "print(f\"R2 score (Cross-validation): {r2_cv}\")\n",
    "print(f\"RMSE (Cross-validation): {np.sqrt(mse_cv)}\")"
   ]
  },
  {
   "cell_type": "code",
   "execution_count": 3,
   "metadata": {},
   "outputs": [
    {
     "data": {
      "text/plain": [
       "array([-24.34225667, -24.53800569, -23.47416519, -25.49867718,\n",
       "       -23.88555629])"
      ]
     },
     "execution_count": 3,
     "metadata": {},
     "output_type": "execute_result"
    }
   ],
   "source": [
    "scores"
   ]
  }
 ],
 "metadata": {
  "kernelspec": {
   "display_name": "Python 3",
   "language": "python",
   "name": "python3"
  },
  "language_info": {
   "codemirror_mode": {
    "name": "ipython",
    "version": 3
   },
   "file_extension": ".py",
   "mimetype": "text/x-python",
   "name": "python",
   "nbconvert_exporter": "python",
   "pygments_lexer": "ipython3",
   "version": "3.7.4"
  },
  "orig_nbformat": 4
 },
 "nbformat": 4,
 "nbformat_minor": 2
}
